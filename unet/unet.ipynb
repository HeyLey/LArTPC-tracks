{
 "cells": [
  {
   "cell_type": "code",
   "execution_count": 1,
   "metadata": {},
   "outputs": [
    {
     "name": "stderr",
     "output_type": "stream",
     "text": [
      "/opt/conda/anaconda3/lib/python3.6/importlib/_bootstrap.py:205: RuntimeWarning: numpy.dtype size changed, may indicate binary incompatibility. Expected 96, got 88\n",
      "  return f(*args, **kwds)\n",
      "/opt/conda/anaconda3/lib/python3.6/importlib/_bootstrap.py:205: RuntimeWarning: numpy.dtype size changed, may indicate binary incompatibility. Expected 96, got 88\n",
      "  return f(*args, **kwds)\n"
     ]
    }
   ],
   "source": [
    "import numpy as np\n",
    "import pandas as pd\n",
    "from tqdm import tqdm\n",
    "import tables"
   ]
  },
  {
   "cell_type": "code",
   "execution_count": 2,
   "metadata": {
    "collapsed": true
   },
   "outputs": [],
   "source": [
    "import os\n",
    "\n",
    "USE_GPU = True\n",
    "os.environ['CUDA_VISIBLE_DEVICES'] = '1' if USE_GPU else ''"
   ]
  },
  {
   "cell_type": "code",
   "execution_count": 3,
   "metadata": {},
   "outputs": [
    {
     "name": "stderr",
     "output_type": "stream",
     "text": [
      "/opt/conda/anaconda3/lib/python3.6/site-packages/h5py/__init__.py:34: FutureWarning: Conversion of the second argument of issubdtype from `float` to `np.floating` is deprecated. In future, it will be treated as `np.float64 == np.dtype(float).type`.\n",
      "  from ._conv import register_converters as _register_converters\n"
     ]
    }
   ],
   "source": [
    "import tensorflow as tf"
   ]
  },
  {
   "cell_type": "code",
   "execution_count": 4,
   "metadata": {
    "collapsed": true
   },
   "outputs": [],
   "source": [
    "config = tf.ConfigProto()\n",
    "config.gpu_options.allow_growth=True"
   ]
  },
  {
   "cell_type": "markdown",
   "metadata": {},
   "source": [
    "U-net architecture (example for 32x32 pixels in the lowest resolution). Each blue box corresponds to a multi-channel feature map. The number of channels is denoted on top of the box. The x-y-size is provided at the lower left edge of the box. White boxes represent copied feature maps. The arrows denote the different operations."
   ]
  },
  {
   "cell_type": "markdown",
   "metadata": {},
   "source": [
    "![](../img/unet.png)"
   ]
  },
  {
   "cell_type": "code",
   "execution_count": 5,
   "metadata": {
    "collapsed": true
   },
   "outputs": [],
   "source": [
    "# Bigger batch not work\n",
    "batch_size = 1\n",
    "\n",
    "# Energy level for each voxel\n",
    "data_ph = tf.placeholder(tf.float32, (batch_size, 192, 192, 192))\n",
    "\n",
    "# Is this voxel awailable in data\n",
    "mask_ph = tf.placeholder(tf.uint8, (batch_size, 192, 192, 192))\n",
    "\n",
    "# Label for each voxel\n",
    "labels_ph = tf.placeholder(tf.uint8, (batch_size, 192, 192, 192))"
   ]
  },
  {
   "cell_type": "code",
   "execution_count": 6,
   "metadata": {
    "collapsed": true
   },
   "outputs": [],
   "source": [
    "# We use L2 - regularization\n",
    "regularizer = tf.contrib.layers.l2_regularizer(1.0)"
   ]
  },
  {
   "cell_type": "code",
   "execution_count": 7,
   "metadata": {
    "collapsed": true
   },
   "outputs": [],
   "source": [
    "# This layer produses layer of same dimensions\n",
    "def strait_conv(l, size):    \n",
    "    l = tf.layers.conv3d(\n",
    "        l,\n",
    "        size,\n",
    "        3,\n",
    "        strides=(1, 1, 1),\n",
    "        padding='same',\n",
    "        kernel_regularizer=regularizer)\n",
    "\n",
    "    l = tf.layers.dropout(l, rate=0.2)    \n",
    "\n",
    "    l = tf.layers.conv3d(\n",
    "        l,\n",
    "        size,\n",
    "        3,\n",
    "        strides=(1, 1, 1),\n",
    "        padding='same',\n",
    "        kernel_regularizer=regularizer)\n",
    "\n",
    "    l = tf.layers.dropout(l, rate=0.2)\n",
    "    return l\n",
    "\n",
    "# This layer make subsampling each dimension is two times smaller\n",
    "def down_conv(l, size, f):\n",
    "    l = tf.layers.conv3d(\n",
    "        l,\n",
    "        size,\n",
    "        f,\n",
    "        strides=(2, 2, 2),    \n",
    "        kernel_regularizer=regularizer)\n",
    "    return tf.layers.dropout(l, rate=0.2)\n",
    "\n",
    "# This layer make upsampling each dimension is two times larger\n",
    "def up_conv(l, size, f):\n",
    "    l = tf.layers.conv3d_transpose(\n",
    "        l,\n",
    "        size,\n",
    "        f,\n",
    "        strides=(2, 2, 2),\n",
    "        kernel_regularizer=regularizer)\n",
    "    return tf.layers.dropout(l, rate=0.2)"
   ]
  },
  {
   "cell_type": "markdown",
   "metadata": {},
   "source": [
    "Now we build whole network. \n",
    "It will have 5 levels like UNet\n",
    "\n",
    "Dimensions of levels:\n",
    "\n",
    "<code>(192, 192, 192, 16)\n",
    "( 95,  95,  95, 32)\n",
    "( 47,  47,  47, 64)\n",
    "( 23,  23,  23, 128)\n",
    "( 11,  11,  11, 256)\n",
    "</code>\n",
    "\n",
    "Due to memory limiations we use less filters.\n"
   ]
  },
  {
   "cell_type": "code",
   "execution_count": 8,
   "metadata": {
    "collapsed": true
   },
   "outputs": [],
   "source": [
    "\n",
    "def build_network():    \n",
    "    l1 = tf.concat([tf.reshape(data_ph, (batch_size, 192, 192, 192, 1)),\n",
    "                    tf.reshape(tf.cast(mask_ph, tf.float32), (batch_size, 192, 192, 192, 1))], axis=4) \n",
    "    l1 = strait_conv(l1, 16)\n",
    "    \n",
    "    l2 = down_conv(l1, 32, 4)\n",
    "    \n",
    "    l2 = strait_conv(l2, 32)\n",
    "    \n",
    "    print(l2.shape)\n",
    "    \n",
    "    l3 = down_conv(l2, 64, 3)\n",
    "    \n",
    "    print(l3.shape)\n",
    "    \n",
    "    l3 = strait_conv(l3, 64)\n",
    "    \n",
    "    l4 = down_conv(l3, 128, 3)\n",
    "    \n",
    "    print(l4.shape)\n",
    "    \n",
    "    l4 = strait_conv(l4, 128)\n",
    "    \n",
    "    l5 = down_conv(l4, 256, 3)\n",
    "    \n",
    "    print(l5.shape)\n",
    "    \n",
    "    l5 = strait_conv(l5, 256)\n",
    "    \n",
    "    # Now we doing up sampling\n",
    "    l5_inv = up_conv(l5, 128, 3)\n",
    "    \n",
    "    l4 = strait_conv(tf.concat([l4, l5_inv], axis=4), 128)\n",
    "    \n",
    "    l4_inv = up_conv(l4, 64, 3)\n",
    "    \n",
    "    l3 = strait_conv(tf.concat([l3, l4_inv], axis=4), 64)\n",
    "    \n",
    "    l3_inv = up_conv(l3, 32, 3)\n",
    "    \n",
    "    l2 = strait_conv(tf.concat([l2, l3_inv], axis=4), 32)\n",
    "    \n",
    "    l2_inv = up_conv(l2, 16, 4)\n",
    "    \n",
    "    l1 = strait_conv(tf.concat([l1, l2_inv], axis=4), 16)\n",
    "    \n",
    "    # Output layer, logits of classes\n",
    "    logits = tf.layers.conv3d(\n",
    "        l1,\n",
    "        4,\n",
    "        1,\n",
    "        strides=(1, 1, 1), \n",
    "        kernel_regularizer=regularizer,\n",
    "        activation=None)     \n",
    "    \n",
    "    return logits"
   ]
  },
  {
   "cell_type": "code",
   "execution_count": 9,
   "metadata": {},
   "outputs": [
    {
     "name": "stdout",
     "output_type": "stream",
     "text": [
      "(1, 95, 95, 95, 32)\n",
      "(1, 47, 47, 47, 64)\n",
      "(1, 23, 23, 23, 128)\n",
      "(1, 11, 11, 11, 256)\n"
     ]
    }
   ],
   "source": [
    "logits = build_network()\n",
    "\n",
    "# We use cross entropy as loss. We count loss only in voxels that are available\n",
    "loss = tf.losses.sparse_softmax_cross_entropy(\n",
    "        tf.cast(labels_ph, tf.int32),\n",
    "        logits,\n",
    "        weights=mask_ph)\n",
    "    \n",
    "prediction = tf.argmax(logits)\n",
    "    \n",
    "correct_prediction = tf.equal(tf.argmax(logits, 4), \n",
    "                                  tf.cast(labels_ph, tf.int64))\n",
    "# Accuracy to control results\n",
    "accuracy = (tf.reduce_sum(tf.cast(correct_prediction, tf.float32) * \n",
    "                             tf.cast(mask_ph, tf.float32))\n",
    "                / tf.reduce_sum(tf.cast(mask_ph, tf.float32)))\n",
    "\n",
    "\n",
    "# Regularization to prevent overfitting\n",
    "reg_losses = tf.get_collection(tf.GraphKeys.REGULARIZATION_LOSSES)\n",
    "reg_constant = 1e-3\n",
    "loss = loss + reg_constant * sum(reg_losses)\n",
    "\n",
    "optimizer = tf.train.AdamOptimizer(0.00001).minimize(loss)"
   ]
  },
  {
   "cell_type": "code",
   "execution_count": 10,
   "metadata": {
    "collapsed": true
   },
   "outputs": [],
   "source": [
    "def load_batch(i):\n",
    "    h5file = tables.open_file(\"/home/leyla/data/hd5_3/train_{}.h5\".format(str(i).zfill(4)))\n",
    "            \n",
    "    data = h5file.root.data.read()\n",
    "    mask = h5file.root.mask.read() \n",
    "    labels = h5file.root.labels.read()\n",
    "            \n",
    "    h5file.close()\n",
    "    \n",
    "    return data, mask, labels"
   ]
  },
  {
   "cell_type": "code",
   "execution_count": 11,
   "metadata": {
    "collapsed": true
   },
   "outputs": [],
   "source": [
    "# Generator to divide loaded block into parts of size 1.\n",
    "def interate_batch(f, t):\n",
    "    for i in range(f, t):\n",
    "        data, mask, labels = load_batch(i)\n",
    "        for j in range(len(data)):\n",
    "            yield data[j:j+1], mask[j:j+1], labels[j:j+1] "
   ]
  },
  {
   "cell_type": "code",
   "execution_count": 12,
   "metadata": {},
   "outputs": [
    {
     "name": "stdout",
     "output_type": "stream",
     "text": [
      "train: 0.8254589619702764 0.7037652841524945\n",
      "test: 0.7036571802794933 0.6904526505470275\n",
      "train: 0.6513729396396213 0.7500492237938775\n",
      "test: 0.6661614411771297 0.6959112075567245\n",
      "train: 1.0136413894229466 0.7554627824227015\n",
      "test: 0.6938542750775814 0.6980143828392029\n",
      "train: 0.6253384196460247 0.7627719469070434\n",
      "test: 0.6883441696166992 0.690600627720356\n",
      "train: 0.6187253687580426 0.7597226929068566\n",
      "test: 0.6496795690357685 0.7049928687214851\n"
     ]
    }
   ],
   "source": [
    "init = tf.global_variables_initializer()\n",
    "ep = 5\n",
    "train_batch = 1000\n",
    "total_batch = 900\n",
    "\n",
    "acc_train = []\n",
    "loss_train = []\n",
    "acc_validation = []\n",
    "loss_validation = []\n",
    "\n",
    "\n",
    "with tf.Session() as sess:\n",
    "    sess.run(init)\n",
    "    for epoch in range(ep): \n",
    "        l_sum = 0.0\n",
    "        a_sum = 0.0\n",
    "        n = 0.0\n",
    "        for data, mask, labels in interate_batch(0, train_batch):\n",
    "            l, a, _ = sess.run([loss, accuracy, optimizer], feed_dict={\n",
    "                data_ph : data,\n",
    "                mask_ph : mask,\n",
    "                labels_ph : labels \n",
    "            })\n",
    "            l_sum += l\n",
    "            a_sum += a\n",
    "            n += 1\n",
    "            \n",
    "        acc_train.append(a_sum / n)\n",
    "        loss_train.append(l_sum / n)\n",
    "            \n",
    "        print(\"train: {} {} \".format(l_sum / n, a_sum / n))\n",
    "        \n",
    "        l_sum = 0.0\n",
    "        a_sum = 0.0\n",
    "        n = 0.0\n",
    "        for data, mask, labels in interate_batch(train_batch, total_batch):\n",
    "            l, a = sess.run([loss, accuracy], feed_dict={\n",
    "                data_ph : data,\n",
    "                mask_ph : mask,\n",
    "                labels_ph : labels\n",
    "            })\n",
    "            l_sum += l\n",
    "            a_sum += a\n",
    "            n += 1\n",
    "        \n",
    "        acc_validation.append(a_sum / n)\n",
    "        loss_validation.append(l_sum / n)\n",
    "        \n",
    "        print(\"test: {} {} \".format(l_sum / n, a_sum / n)) "
   ]
  },
  {
   "cell_type": "code",
   "execution_count": 13,
   "metadata": {},
   "outputs": [
    {
     "data": {
      "image/png": "[encoded data removed]",
      "text/plain": [
       "<matplotlib.figure.Figure at 0x7fe255643a58>"
      ]
     },
     "metadata": {},
     "output_type": "display_data"
    },
    {
     "data": {
      "image/png": "[encoded data removed]",
      "text/plain": [
       "<matplotlib.figure.Figure at 0x7fe253103b70>"
      ]
     },
     "metadata": {},
     "output_type": "display_data"
    },
    {
     "data": {
      "image/png": "[encoded data removed]",
      "text/plain": [
       "<matplotlib.figure.Figure at 0x7fe24575ef98>"
      ]
     },
     "metadata": {},
     "output_type": "display_data"
    },
    {
     "data": {
      "image/png": "[encoded data removed]",
      "text/plain": [
       "<matplotlib.figure.Figure at 0x7fe2457afd68>"
      ]
     },
     "metadata": {},
     "output_type": "display_data"
    }
   ],
   "source": [
    "import matplotlib.pyplot as plt\n",
    "\n",
    "plt.title('train loss')\n",
    "plt.plot(loss_train)\n",
    "plt.show()\n",
    "\n",
    "plt.title('train accuracy')\n",
    "plt.plot(acc_train)\n",
    "plt.show()\n",
    "\n",
    "plt.title('test loss')\n",
    "plt.plot(loss_validation)\n",
    "plt.show()\n",
    "\n",
    "plt.title('test accuracy')\n",
    "plt.plot(acc_validation)\n",
    "plt.show()"
   ]
  },
  {
   "cell_type": "markdown",
   "metadata": {},
   "source": [
    "## Tips\n",
    "If you want to drive up your score try following things:\n",
    "\n",
    "* More layers in blocks\n",
    "* More epochs\n",
    "* Increase batch size\n",
    "* Try to play with learning rate / dropout / optimizer type\n",
    "* Try different variants of padding ('same')\n",
    "* Use data augmentation\n",
    "* Use residual connections\n",
    "* Spatial Bottleneck Modules\n"
   ]
  }
 ],
 "metadata": {
  "kernelspec": {
   "display_name": "Python 3",
   "language": "python",
   "name": "python3"
  },
  "language_info": {
   "codemirror_mode": {
    "name": "ipython",
    "version": 3
   },
   "file_extension": ".py",
   "mimetype": "text/x-python",
   "name": "python",
   "nbconvert_exporter": "python",
   "pygments_lexer": "ipython3",
   "version": "3.6.2"
  }
 },
 "nbformat": 4,
 "nbformat_minor": 2
}
