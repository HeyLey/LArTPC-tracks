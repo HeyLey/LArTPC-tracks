{
 "cells": [
  {
   "cell_type": "code",
   "execution_count": 1,
   "metadata": {},
   "outputs": [
    {
     "name": "stderr",
     "output_type": "stream",
     "text": [
      "/opt/conda/anaconda3/lib/python3.6/importlib/_bootstrap.py:205: RuntimeWarning: numpy.dtype size changed, may indicate binary incompatibility. Expected 96, got 88\n",
      "  return f(*args, **kwds)\n",
      "/opt/conda/anaconda3/lib/python3.6/importlib/_bootstrap.py:205: RuntimeWarning: numpy.dtype size changed, may indicate binary incompatibility. Expected 96, got 88\n",
      "  return f(*args, **kwds)\n"
     ]
    }
   ],
   "source": [
    "import numpy as np\n",
    "import pandas as pd\n",
    "import tables\n",
    "from tqdm import tqdm "
   ]
  },
  {
   "cell_type": "code",
   "execution_count": 2,
   "metadata": {
    "collapsed": true
   },
   "outputs": [],
   "source": [
    "dt = pd.read_csv('/home/leyla/data/train_5-6.csv')"
   ]
  },
  {
   "cell_type": "code",
   "execution_count": 3,
   "metadata": {
    "collapsed": true
   },
   "outputs": [],
   "source": [
    "def save_chunk(name, data, labels, mask):\n",
    "    h5file = tables.open_file(\"/home/leyla/data/hd5_3/{}.h5\".format(name), mode=\"w\", filters=tables.Filters(complevel=4))\n",
    "    \n",
    "    h5file.create_carray(\"/\", \"data\", obj=data)\n",
    "    h5file.create_carray(\"/\", \"labels\", obj=labels)\n",
    "    h5file.create_carray(\"/\", \"mask\", obj=mask)\n",
    "\n",
    "    \n",
    "    h5file.close()"
   ]
  },
  {
   "cell_type": "code",
   "execution_count": 4,
   "metadata": {
    "collapsed": true
   },
   "outputs": [],
   "source": [
    "E_SCALE = 50\n",
    "energy_cut=0.01"
   ]
  },
  {
   "cell_type": "code",
   "execution_count": 5,
   "metadata": {},
   "outputs": [
    {
     "name": "stderr",
     "output_type": "stream",
     "text": [
      "100%|██████████| 12591689/12591689 [1:26:04<00:00, 2438.25it/s]\n"
     ]
    }
   ],
   "source": [
    "batch_size = 5\n",
    "\n",
    "data = np.zeros((batch_size, 192, 192, 192))\n",
    "labels = np.zeros((batch_size, 192, 192, 192), dtype='byte')\n",
    "mask = np.zeros((batch_size, 192, 192, 192), dtype='byte')\n",
    "offset = 0\n",
    "\n",
    "\n",
    "for _, row in tqdm(dt.iterrows(), total=dt.shape[0]):\n",
    "    event = int(row['event'])\n",
    "    i = event - offset\n",
    "    if (i >= batch_size):\n",
    "        save_chunk(\"train_\" + str(offset // batch_size).zfill(4), data, labels, mask)\n",
    "        \n",
    "        data = np.zeros((batch_size, 192, 192, 192))\n",
    "        labels = np.zeros((batch_size, 192, 192, 192), dtype='byte')\n",
    "        mask = np.zeros((batch_size, 192, 192, 192), dtype='byte')\n",
    "        \n",
    "        offset += batch_size\n",
    "        i = 0\n",
    "        \n",
    "    label = int(row['label'])\n",
    "    x = int(row['x']) \n",
    "    y = int(row['y'])\n",
    "    z = int(row['z'])\n",
    "    if row['val'] > energy_cut:\n",
    "        data[i, x, y, z] = row['val'] / E_SCALE\n",
    "    labels[i, x, y, z] = label\n",
    "    mask[i, x, y, z] = 1\n",
    "\n",
    "save_chunk(\"train_\" + str(offset // batch_size).zfill(4), data, labels, mask)"
   ]
  },
  {
   "cell_type": "code",
   "execution_count": 7,
   "metadata": {},
   "outputs": [],
   "source": [
    "dt = pd.read_csv('/home/leyla/data/test_5-6.csv')"
   ]
  },
  {
   "cell_type": "code",
   "execution_count": 8,
   "metadata": {
    "collapsed": true
   },
   "outputs": [],
   "source": [
    "def save_chunk(name, data, mask):\n",
    "    h5file = tables.open_file(\"/home/leyla/data/hd5_3/{}.h5\".format(name), mode=\"w\", filters=tables.Filters(complevel=4))\n",
    "    \n",
    "    h5file.create_carray(\"/\", \"data\", obj=data)    \n",
    "    h5file.create_carray(\"/\", \"mask\", obj=mask)\n",
    "\n",
    "    \n",
    "    h5file.close()"
   ]
  },
  {
   "cell_type": "code",
   "execution_count": 9,
   "metadata": {},
   "outputs": [
    {
     "name": "stderr",
     "output_type": "stream",
     "text": [
      "100%|██████████| 12502922/12502922 [2:19:49<00:00, 1490.29it/s] \n"
     ]
    }
   ],
   "source": [
    "batch_size = 5\n",
    "\n",
    "data = np.zeros((batch_size, 192, 192, 192))\n",
    "mask = np.zeros((batch_size, 192, 192, 192), dtype='byte')\n",
    "offset = 0\n",
    "\n",
    "\n",
    "for _, row in tqdm(dt.iterrows(), total=dt.shape[0]):\n",
    "    event = int(row['event'])\n",
    "    i = event - offset\n",
    "    if (i >= batch_size):\n",
    "        save_chunk(\"test_\" + str(offset // batch_size).zfill(4), data, mask)\n",
    "        \n",
    "        data = np.zeros((batch_size, 192, 192, 192))\n",
    "        labels = np.zeros((batch_size, 192, 192, 192), dtype='byte')\n",
    "        mask = np.zeros((batch_size, 192, 192, 192), dtype='byte')\n",
    "        \n",
    "        offset += batch_size\n",
    "        i = 0\n",
    "            \n",
    "    x = int(row['x']) \n",
    "    y = int(row['y'])\n",
    "    z = int(row['z'])\n",
    "    data[i, x, y, z] = row['val']\n",
    "    labels[i, x, y, z] = label\n",
    "    mask[i, x, y, z] = 1\n",
    "\n",
    "save_chunk(\"test_\" + str(offset // batch_size).zfill(4), data, mask)"
   ]
  },
  {
   "cell_type": "code",
   "execution_count": null,
   "metadata": {
    "collapsed": true
   },
   "outputs": [],
   "source": []
  }
 ],
 "metadata": {
  "kernelspec": {
   "display_name": "Python 3",
   "language": "python",
   "name": "python3"
  },
  "language_info": {
   "codemirror_mode": {
    "name": "ipython",
    "version": 3
   },
   "file_extension": ".py",
   "mimetype": "text/x-python",
   "name": "python",
   "nbconvert_exporter": "python",
   "pygments_lexer": "ipython3",
   "version": "3.6.2"
  }
 },
 "nbformat": 4,
 "nbformat_minor": 2
}
